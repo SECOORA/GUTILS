{
 "cells": [
  {
   "cell_type": "code",
   "execution_count": 4,
   "metadata": {},
   "outputs": [],
   "source": [
    "from IPython.lib.pretty import pprint\n",
    "import logging\n",
    "logger = logging.getLogger('gutils')\n",
    "logger.handlers = [logging.StreamHandler()]\n",
    "logger.setLevel(logging.DEBUG)"
   ]
  },
  {
   "cell_type": "code",
   "execution_count": null,
   "metadata": {},
   "outputs": [],
   "source": [
    "import sys\n",
    "from pathlib import Path\n",
    "\n",
    "# Just a hack to be able to `import gutils`\n",
    "sys.path.append(str(Path('.').absolute().parent.parent))\n",
    "\n",
    "deployment_name = 'saltdawg-20160714T0000'\n",
    "config_folder = Path('.').absolute().parent.parent.parent / 'SGS' / 'config' / deployment_name\n",
    "root_folder = Path('.').absolute().parent.parent / 'gutils' / 'tests' / 'resources' / 'slocum' / 'real'\n",
    "binary_folder =  root_folder / 'binary' / deployment_name\n",
    "ascii_folder = root_folder / 'ascii' / deployment_name\n",
    "netcdf_folder = root_folder / 'netcdf' / deployment_name"
   ]
  },
  {
   "cell_type": "code",
   "execution_count": null,
   "metadata": {},
   "outputs": [],
   "source": [
    "import tempfile\n",
    "from gutils.slocum import SlocumMerger\n",
    "\n",
    "merger = SlocumMerger(\n",
    "    str(binary_folder),\n",
    "    str(ascii_folder)\n",
    ")\n",
    "\n",
    "# The merge results contain a reference to the new produced ASCII file as well as what binary files went into it.\n",
    "merge_results = merger.convert()"
   ]
  },
  {
   "cell_type": "code",
   "execution_count": 21,
   "metadata": {},
   "outputs": [
    {
     "name": "stdout",
     "output_type": "stream",
     "text": [
      "sh: 0: getcwd() failed: No such file or directory\r\n",
      "/bin/sh: 1: Syntax error: end of file unexpected\r\n"
     ]
    },
    {
     "name": "stderr",
     "output_type": "stream",
     "text": [
      "ERROR:root:Internal Python error in the inspect module.\n",
      "Below is the traceback from this internal error.\n",
      "\n"
     ]
    },
    {
     "name": "stdout",
     "output_type": "stream",
     "text": [
      "Traceback (most recent call last):\n",
      "  File \"/var/host/media/removable/Sam128GBext4/data/miniconda3py36/envs/gutils36/lib/python3.6/site-packages/IPython/core/interactiveshell.py\", line 2963, in run_code\n",
      "    exec(code_obj, self.user_global_ns, self.user_ns)\n",
      "  File \"<ipython-input-21-73768c5d1a7b>\", line 28, in <module>\n",
      "    **filters\n",
      "  File \"/var/host/media/removable/Sam128GBext4/data/Development/GUTILS/gutils/nc.py\", line 439, in create_dataset\n",
      "    processed_df, mode = process_dataset(file, reader_class, **filters)\n",
      "  File \"/var/host/media/removable/Sam128GBext4/data/Development/GUTILS/gutils/filters.py\", line 106, in process_dataset\n",
      "    reader = reader_class(file)\n",
      "  File \"/var/host/media/removable/Sam128GBext4/data/Development/GUTILS/gutils/slocum/__init__.py\", line 42, in __init__\n",
      "    self.metadata, self.data = self.read()\n",
      "  File \"/var/host/media/removable/Sam128GBext4/data/Development/GUTILS/gutils/slocum/__init__.py\", line 70, in read\n",
      "    skiprows=data_start,\n",
      "UnboundLocalError: local variable 'data_start' referenced before assignment\n",
      "\n",
      "During handling of the above exception, another exception occurred:\n",
      "\n",
      "Traceback (most recent call last):\n",
      "  File \"/var/host/media/removable/Sam128GBext4/data/miniconda3py36/envs/gutils36/lib/python3.6/site-packages/IPython/core/interactiveshell.py\", line 1863, in showtraceback\n",
      "    stb = value._render_traceback_()\n",
      "AttributeError: 'UnboundLocalError' object has no attribute '_render_traceback_'\n",
      "\n",
      "During handling of the above exception, another exception occurred:\n",
      "\n",
      "Traceback (most recent call last):\n",
      "  File \"/var/host/media/removable/Sam128GBext4/data/miniconda3py36/envs/gutils36/lib/python3.6/site-packages/IPython/core/ultratb.py\", line 1095, in get_records\n",
      "    return _fixed_getinnerframes(etb, number_of_lines_of_context, tb_offset)\n",
      "  File \"/var/host/media/removable/Sam128GBext4/data/miniconda3py36/envs/gutils36/lib/python3.6/site-packages/IPython/core/ultratb.py\", line 311, in wrapped\n",
      "    return f(*args, **kwargs)\n",
      "  File \"/var/host/media/removable/Sam128GBext4/data/miniconda3py36/envs/gutils36/lib/python3.6/site-packages/IPython/core/ultratb.py\", line 345, in _fixed_getinnerframes\n",
      "    records = fix_frame_records_filenames(inspect.getinnerframes(etb, context))\n",
      "  File \"/var/host/media/removable/Sam128GBext4/data/miniconda3py36/envs/gutils36/lib/python3.6/inspect.py\", line 1483, in getinnerframes\n",
      "    frameinfo = (tb.tb_frame,) + getframeinfo(tb, context)\n",
      "  File \"/var/host/media/removable/Sam128GBext4/data/miniconda3py36/envs/gutils36/lib/python3.6/inspect.py\", line 1441, in getframeinfo\n",
      "    filename = getsourcefile(frame) or getfile(frame)\n",
      "  File \"/var/host/media/removable/Sam128GBext4/data/miniconda3py36/envs/gutils36/lib/python3.6/inspect.py\", line 696, in getsourcefile\n",
      "    if getattr(getmodule(object, filename), '__loader__', None) is not None:\n",
      "  File \"/var/host/media/removable/Sam128GBext4/data/miniconda3py36/envs/gutils36/lib/python3.6/inspect.py\", line 725, in getmodule\n",
      "    file = getabsfile(object, _filename)\n",
      "  File \"/var/host/media/removable/Sam128GBext4/data/miniconda3py36/envs/gutils36/lib/python3.6/inspect.py\", line 709, in getabsfile\n",
      "    return os.path.normcase(os.path.abspath(_filename))\n",
      "  File \"/var/host/media/removable/Sam128GBext4/data/miniconda3py36/envs/gutils36/lib/python3.6/posixpath.py\", line 376, in abspath\n",
      "    cwd = os.getcwd()\n",
      "FileNotFoundError: [Errno 2] No such file or directory\n"
     ]
    },
    {
     "ename": "UnboundLocalError",
     "evalue": "local variable 'data_start' referenced before assignment",
     "output_type": "error",
     "traceback": [
      "\u001b[0;31m---------------------------------------------------------------------------\u001b[0m"
     ]
    }
   ],
   "source": [
    "import os\n",
    "import json\n",
    "from gutils.slocum import SlocumReader\n",
    "from gutils.filters import process_dataset\n",
    "from gutils.nc import read_attrs, create_dataset\n",
    "\n",
    "filters = dict(\n",
    "    tsint=1,\n",
    "    filter_z=1,\n",
    "    filter_points=3,\n",
    "    filter_time=10,\n",
    "    filter_distance=1\n",
    ")\n",
    "\n",
    "for f in os.scandir(ascii_output):\n",
    "    # Export the actual netCDF files, no subset\n",
    "    netcdf_files = create_dataset(\n",
    "        file=f.path,\n",
    "        reader_class=SlocumReader,\n",
    "        output_path=str(netcdf_folder),\n",
    "        config_path=str(config_folder),\n",
    "        subset=False,\n",
    "        profile_id_type=1,\n",
    "        template='trajectory',\n",
    "        **filters\n",
    "    )\n",
    "    \n",
    "netcdf_output"
   ]
  },
  {
   "cell_type": "code",
   "execution_count": null,
   "metadata": {},
   "outputs": [],
   "source": []
  }
 ],
 "metadata": {
  "kernelspec": {
   "display_name": "Python 3",
   "language": "python",
   "name": "python3"
  },
  "language_info": {
   "codemirror_mode": {
    "name": "ipython",
    "version": 3
   },
   "file_extension": ".py",
   "mimetype": "text/x-python",
   "name": "python",
   "nbconvert_exporter": "python",
   "pygments_lexer": "ipython3",
   "version": "3.6.5"
  }
 },
 "nbformat": 4,
 "nbformat_minor": 2
}
